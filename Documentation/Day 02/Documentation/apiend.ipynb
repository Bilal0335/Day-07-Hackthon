{
 "cells": [
  {
   "cell_type": "code",
   "execution_count": null,
   "metadata": {},
   "outputs": [],
   "source": [
    "! pip install pandas openpyxl"
   ]
  },
  {
   "cell_type": "code",
   "execution_count": 4,
   "metadata": {},
   "outputs": [
    {
     "name": "stdout",
     "output_type": "stream",
     "text": [
      "Excel file created and saved at: APIEndpoints.xlsx\n"
     ]
    }
   ],
   "source": [
    "import pandas as pd\n",
    "\n",
    "# Re-creating the data for the API Endpoints with different name, price, and stock values\n",
    "data = {\n",
    "    \"Endpoint\": [\n",
    "        \"/products\",\n",
    "        \"/products/:id\",\n",
    "        \"/products\",\n",
    "        \"/products/:id\",\n",
    "        \"/products/:id\",\n",
    "        \"/users\",\n",
    "        \"/users/login\",\n",
    "        \"/orders\",\n",
    "        \"/orders/:id\",\n",
    "        \"/shipment/:orderId\",\n",
    "        \"/payment/process\"\n",
    "    ],\n",
    "    \"Method\": [\n",
    "        \"GET\", \"GET\", \"POST\", \"PUT\", \"DELETE\",\n",
    "        \"POST\", \"POST\", \"POST\", \"GET\", \"GET\", \"POST\"\n",
    "    ],\n",
    "    \"Description\": [\n",
    "        \"Fetch all available products.\",\n",
    "        \"Fetch a single product by ID.\",\n",
    "        \"Add a new product.\",\n",
    "        \"Update an existing product.\",\n",
    "        \"Delete a product by ID.\",\n",
    "        \"Register a new user.\",\n",
    "        \"Authenticate a user.\",\n",
    "        \"Place a new order.\",\n",
    "        \"Fetch an order by ID.\",\n",
    "        \"Fetch shipment tracking info.\",\n",
    "        \"Process a payment.\"\n",
    "    ],\n",
    "    \"Parameter\": [\n",
    "        \"None\",\n",
    "        \"None\",\n",
    "        '{\"name\": \"Chair\", \"price\": 1500, \"stock\": 10}',  # Product 1\n",
    "        '{\"name\": \"Table\", \"price\": 2500, \"stock\": 5}',    # Product 2\n",
    "        '{\"name\": \"Lamp\", \"price\": 500, \"stock\": 20}',     # Product 3\n",
    "        '{\"name\": \"Ali\", \"email\": \"ali@example.com\"}',\n",
    "        '{\"email\": \"ali@example.com\", \"password\": \"1234\"}',\n",
    "        '{\"userId\": 101, \"products\": [{\"id\": 1, \"qty\": 2}]}',\n",
    "        \"None\",\n",
    "        \"None\",\n",
    "        '{\"orderId\": 123, \"amount\": 3000}'\n",
    "    ],\n",
    "    \"Response Example\": [\n",
    "        '[{\"id\": 1, \"name\": \"Chair\", \"price\": 1500}]',\n",
    "        '{\"id\": 1, \"name\": \"Chair\", \"price\": 1500, \"stock\": 10}',\n",
    "        '{\"status\": \"success\", \"productId\": 1}',\n",
    "        '{\"status\": \"success\"}',\n",
    "        '{\"status\": \"success\"}',\n",
    "        '{\"userId\": 101, \"status\": \"success\"}',\n",
    "        '{\"status\": \"success\", \"token\": \"abcd1234\"}',\n",
    "        '{\"orderId\": 123, \"status\": \"success\"}',\n",
    "        '{\"orderId\": 123, \"status\": \"Pending\", \"total\": 3000}',\n",
    "        '{\"orderId\": 123, \"status\": \"Out for Delivery\", \"ETA\": \"15 mins\"}',\n",
    "        '{\"paymentId\": 567, \"status\": \"success\"}'\n",
    "    ]\n",
    "}\n",
    "\n",
    "# Creating the DataFrame\n",
    "df = pd.DataFrame(data)\n",
    "\n",
    "# Saving to a file in the current directory\n",
    "file_path = \"APIEndpoints.xlsx\"  # File will be saved in the same directory as the script\n",
    "df.to_excel(file_path, index=False)\n",
    "\n",
    "print(f\"Excel file created and saved at: {file_path}\")\n"
   ]
  }
 ],
 "metadata": {
  "kernelspec": {
   "display_name": "Python 3",
   "language": "python",
   "name": "python3"
  },
  "language_info": {
   "codemirror_mode": {
    "name": "ipython",
    "version": 3
   },
   "file_extension": ".py",
   "mimetype": "text/x-python",
   "name": "python",
   "nbconvert_exporter": "python",
   "pygments_lexer": "ipython3",
   "version": "3.12.3"
  }
 },
 "nbformat": 4,
 "nbformat_minor": 2
}
